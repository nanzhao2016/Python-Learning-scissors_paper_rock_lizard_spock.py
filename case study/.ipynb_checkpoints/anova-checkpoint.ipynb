{
 "cells": [
  {
   "cell_type": "code",
   "execution_count": 1,
   "metadata": {
    "collapsed": true
   },
   "outputs": [],
   "source": [
    "import pandas, numpy, scipy.stats\n",
    "import math\n",
    "import matplotlib.pyplot as plt\n",
    "%matplotlib inline"
   ]
  },
  {
   "cell_type": "code",
   "execution_count": 2,
   "metadata": {
    "collapsed": false
   },
   "outputs": [
    {
     "data": {
      "text/html": [
       "<div>\n",
       "<table border=\"1\" class=\"dataframe\">\n",
       "  <thead>\n",
       "    <tr style=\"text-align: right;\">\n",
       "      <th></th>\n",
       "      <th>smile</th>\n",
       "      <th>leniency</th>\n",
       "    </tr>\n",
       "  </thead>\n",
       "  <tbody>\n",
       "    <tr>\n",
       "      <th>0</th>\n",
       "      <td>1</td>\n",
       "      <td>2.5</td>\n",
       "    </tr>\n",
       "    <tr>\n",
       "      <th>1</th>\n",
       "      <td>1</td>\n",
       "      <td>5.5</td>\n",
       "    </tr>\n",
       "    <tr>\n",
       "      <th>2</th>\n",
       "      <td>1</td>\n",
       "      <td>6.5</td>\n",
       "    </tr>\n",
       "    <tr>\n",
       "      <th>3</th>\n",
       "      <td>1</td>\n",
       "      <td>3.5</td>\n",
       "    </tr>\n",
       "    <tr>\n",
       "      <th>4</th>\n",
       "      <td>1</td>\n",
       "      <td>3.0</td>\n",
       "    </tr>\n",
       "  </tbody>\n",
       "</table>\n",
       "</div>"
      ],
      "text/plain": [
       "   smile  leniency\n",
       "0      1       2.5\n",
       "1      1       5.5\n",
       "2      1       6.5\n",
       "3      1       3.5\n",
       "4      1       3.0"
      ]
     },
     "execution_count": 2,
     "metadata": {},
     "output_type": "execute_result"
    }
   ],
   "source": [
    "data_smile = pandas.read_excel('leniency.xls')\n",
    "data_smile.head()"
   ]
  },
  {
   "cell_type": "code",
   "execution_count": 3,
   "metadata": {
    "collapsed": false
   },
   "outputs": [
    {
     "data": {
      "text/plain": [
       "(136, 2)"
      ]
     },
     "execution_count": 3,
     "metadata": {},
     "output_type": "execute_result"
    }
   ],
   "source": [
    "data_smile.shape"
   ]
  },
  {
   "cell_type": "code",
   "execution_count": 4,
   "metadata": {
    "collapsed": false
   },
   "outputs": [
    {
     "data": {
      "text/plain": [
       "array([1, 2, 3, 4], dtype=int64)"
      ]
     },
     "execution_count": 4,
     "metadata": {},
     "output_type": "execute_result"
    }
   ],
   "source": [
    "data_smile['smile'].unique()"
   ]
  },
  {
   "cell_type": "code",
   "execution_count": 5,
   "metadata": {
    "collapsed": false
   },
   "outputs": [
    {
     "data": {
      "text/plain": [
       "34"
      ]
     },
     "execution_count": 5,
     "metadata": {},
     "output_type": "execute_result"
    }
   ],
   "source": [
    "len(data_smile[data_smile['smile']==1])"
   ]
  },
  {
   "cell_type": "code",
   "execution_count": 6,
   "metadata": {
    "collapsed": false
   },
   "outputs": [
    {
     "data": {
      "text/plain": [
       "34"
      ]
     },
     "execution_count": 6,
     "metadata": {},
     "output_type": "execute_result"
    }
   ],
   "source": [
    "len(data_smile[data_smile['smile']==2])"
   ]
  },
  {
   "cell_type": "code",
   "execution_count": 7,
   "metadata": {
    "collapsed": false
   },
   "outputs": [
    {
     "data": {
      "text/plain": [
       "34"
      ]
     },
     "execution_count": 7,
     "metadata": {},
     "output_type": "execute_result"
    }
   ],
   "source": [
    "len(data_smile[data_smile['smile']==3])"
   ]
  },
  {
   "cell_type": "code",
   "execution_count": 8,
   "metadata": {
    "collapsed": false
   },
   "outputs": [
    {
     "data": {
      "text/plain": [
       "34"
      ]
     },
     "execution_count": 8,
     "metadata": {},
     "output_type": "execute_result"
    }
   ],
   "source": [
    "len(data_smile[data_smile['smile']==4])"
   ]
  },
  {
   "cell_type": "code",
   "execution_count": 9,
   "metadata": {
    "collapsed": false
   },
   "outputs": [
    {
     "data": {
      "text/html": [
       "<div>\n",
       "<table border=\"1\" class=\"dataframe\">\n",
       "  <thead>\n",
       "    <tr style=\"text-align: right;\">\n",
       "      <th></th>\n",
       "      <th>smile</th>\n",
       "      <th>leniency</th>\n",
       "    </tr>\n",
       "  </thead>\n",
       "  <tbody>\n",
       "    <tr>\n",
       "      <th>102</th>\n",
       "      <td>4</td>\n",
       "      <td>2.0</td>\n",
       "    </tr>\n",
       "    <tr>\n",
       "      <th>103</th>\n",
       "      <td>4</td>\n",
       "      <td>4.0</td>\n",
       "    </tr>\n",
       "    <tr>\n",
       "      <th>104</th>\n",
       "      <td>4</td>\n",
       "      <td>4.0</td>\n",
       "    </tr>\n",
       "    <tr>\n",
       "      <th>105</th>\n",
       "      <td>4</td>\n",
       "      <td>3.0</td>\n",
       "    </tr>\n",
       "    <tr>\n",
       "      <th>106</th>\n",
       "      <td>4</td>\n",
       "      <td>6.0</td>\n",
       "    </tr>\n",
       "  </tbody>\n",
       "</table>\n",
       "</div>"
      ],
      "text/plain": [
       "     smile  leniency\n",
       "102      4       2.0\n",
       "103      4       4.0\n",
       "104      4       4.0\n",
       "105      4       3.0\n",
       "106      4       6.0"
      ]
     },
     "execution_count": 9,
     "metadata": {},
     "output_type": "execute_result"
    }
   ],
   "source": [
    "data_smile[data_smile['smile']==4].head()"
   ]
  },
  {
   "cell_type": "code",
   "execution_count": 10,
   "metadata": {
    "collapsed": false,
    "scrolled": true
   },
   "outputs": [
    {
     "data": {
      "text/plain": [
       "102    2.0\n",
       "103    4.0\n",
       "104    4.0\n",
       "105    3.0\n",
       "106    6.0\n",
       "Name: leniency, dtype: float64"
      ]
     },
     "execution_count": 10,
     "metadata": {},
     "output_type": "execute_result"
    }
   ],
   "source": [
    "data_smile[data_smile['smile']==4]['leniency'].head()"
   ]
  },
  {
   "cell_type": "code",
   "execution_count": 11,
   "metadata": {
    "collapsed": false
   },
   "outputs": [
    {
     "data": {
      "image/png": "[encoded data removed]",
      "text/plain": [
       "<matplotlib.figure.Figure at 0x2a412b10710>"
      ]
     },
     "metadata": {},
     "output_type": "display_data"
    }
   ],
   "source": [
    "labels = ['false', 'felt', 'miserable', 'neutral']\n",
    "toto = [data_smile[data_smile['smile']==1]['leniency'], data_smile[data_smile['smile']==2]['leniency'], data_smile[data_smile['smile']==3]['leniency'], data_smile[data_smile['smile']==4]['leniency']]\n",
    "plt.boxplot(toto, 1, 'gD', labels = labels)\n",
    "plt.xlabel('smile')\n",
    "plt.ylabel('leniency measure')\n",
    "plt.title(\"Smiles and Leniency\")\n",
    "plt.show()"
   ]
  },
  {
   "cell_type": "code",
   "execution_count": 18,
   "metadata": {
    "collapsed": false
   },
   "outputs": [
    {
     "data": {
      "text/html": [
       "<div>\n",
       "<table border=\"1\" class=\"dataframe\">\n",
       "  <thead>\n",
       "    <tr style=\"text-align: right;\">\n",
       "      <th></th>\n",
       "      <th>Condition</th>\n",
       "      <th>Mean</th>\n",
       "      <th>Size</th>\n",
       "      <th>Variance</th>\n",
       "    </tr>\n",
       "  </thead>\n",
       "  <tbody>\n",
       "    <tr>\n",
       "      <th>0</th>\n",
       "      <td>false</td>\n",
       "      <td>5.367647</td>\n",
       "      <td>34</td>\n",
       "      <td>3.338012</td>\n",
       "    </tr>\n",
       "    <tr>\n",
       "      <th>1</th>\n",
       "      <td>felt</td>\n",
       "      <td>4.911765</td>\n",
       "      <td>34</td>\n",
       "      <td>2.825312</td>\n",
       "    </tr>\n",
       "    <tr>\n",
       "      <th>2</th>\n",
       "      <td>miserable</td>\n",
       "      <td>4.911765</td>\n",
       "      <td>34</td>\n",
       "      <td>2.113191</td>\n",
       "    </tr>\n",
       "    <tr>\n",
       "      <th>3</th>\n",
       "      <td>neutral</td>\n",
       "      <td>4.117647</td>\n",
       "      <td>34</td>\n",
       "      <td>2.319073</td>\n",
       "    </tr>\n",
       "  </tbody>\n",
       "</table>\n",
       "</div>"
      ],
      "text/plain": [
       "   Condition      Mean  Size  Variance\n",
       "0      false  5.367647    34  3.338012\n",
       "1       felt  4.911765    34  2.825312\n",
       "2  miserable  4.911765    34  2.113191\n",
       "3    neutral  4.117647    34  2.319073"
      ]
     },
     "execution_count": 18,
     "metadata": {},
     "output_type": "execute_result"
    }
   ],
   "source": [
    "labels = ['false', 'felt', 'miserable', 'neutral']\n",
    "number = []\n",
    "means = []\n",
    "variances = []\n",
    "for i in range(1,5):\n",
    "    number.append(len(data_smile[data_smile['smile']==i]))\n",
    "    means.append(numpy.mean(data_smile[data_smile['smile']==i]['leniency']))\n",
    "    variances.append(scipy.stats.tvar(data_smile[data_smile['smile']==i]['leniency']))\n",
    "\n",
    "data_smile_summary = pandas.DataFrame({'Condition': labels, 'Mean': means, 'Variance': variances, 'Size': number})\n",
    "data_smile_summary.head()\n"
   ]
  },
  {
   "cell_type": "code",
   "execution_count": 21,
   "metadata": {
    "collapsed": false
   },
   "outputs": [
    {
     "data": {
      "text/plain": [
       "2.64889705882353"
      ]
     },
     "execution_count": 21,
     "metadata": {},
     "output_type": "execute_result"
    }
   ],
   "source": [
    "mse = data_smile_summary['Variance'].mean()\n",
    "mse"
   ]
  },
  {
   "cell_type": "markdown",
   "metadata": {},
   "source": [
    "Although we don't the variance of the sampling distribution of the mean, we can estimate with the variance of sample means"
   ]
  },
  {
   "cell_type": "code",
   "execution_count": 26,
   "metadata": {
    "collapsed": false
   },
   "outputs": [
    {
     "data": {
      "text/plain": [
       "0.269950259515571"
      ]
     },
     "execution_count": 26,
     "metadata": {},
     "output_type": "execute_result"
    }
   ],
   "source": [
    "scipy.stats.tvar(data_smile_summary['Mean'])"
   ]
  },
  {
   "cell_type": "code",
   "execution_count": 28,
   "metadata": {
    "collapsed": false
   },
   "outputs": [
    {
     "data": {
      "text/plain": [
       "9.1783088235294148"
      ]
     },
     "execution_count": 28,
     "metadata": {},
     "output_type": "execute_result"
    }
   ],
   "source": [
    "msb = scipy.stats.tvar(data_smile_summary['Mean']) * 34\n",
    "msb"
   ]
  },
  {
   "cell_type": "markdown",
   "metadata": {},
   "source": [
    "To sum up these steps:\n",
    "\n",
    "1.Compute the means.\n",
    "\n",
    "2.Compute the variance of the means.\n",
    "\n",
    "3.Multiply the variance of the means by n."
   ]
  },
  {
   "cell_type": "code",
   "execution_count": 29,
   "metadata": {
    "collapsed": false
   },
   "outputs": [
    {
     "data": {
      "text/plain": [
       "3.4649548924358089"
      ]
     },
     "execution_count": 29,
     "metadata": {},
     "output_type": "execute_result"
    }
   ],
   "source": [
    "F = msb/mse\n",
    "F"
   ]
  },
  {
   "cell_type": "markdown",
   "metadata": {},
   "source": [
    "DFnumerator = k-1 (MSB) \n",
    "\n",
    "DFdenominator = N-k (MSE)"
   ]
  },
  {
   "cell_type": "code",
   "execution_count": 33,
   "metadata": {
    "collapsed": false
   },
   "outputs": [
    {
     "data": {
      "text/plain": [
       "0.01820073122157928"
      ]
     },
     "execution_count": 33,
     "metadata": {},
     "output_type": "execute_result"
    }
   ],
   "source": [
    "1-scipy.stats.f.cdf(F, 3, 132, 0, 1)"
   ]
  },
  {
   "cell_type": "markdown",
   "metadata": {},
   "source": [
    "Example for using scipy.stats.f"
   ]
  },
  {
   "cell_type": "code",
   "execution_count": 58,
   "metadata": {
    "collapsed": false
   },
   "outputs": [
    {
     "data": {
      "image/png": "[encoded data removed]",
      "text/plain": [
       "<matplotlib.figure.Figure at 0x2a412f816d8>"
      ]
     },
     "metadata": {},
     "output_type": "display_data"
    }
   ],
   "source": [
    "fig, ax = plt.subplots(1,1)"
   ]
  },
  {
   "cell_type": "code",
   "execution_count": 42,
   "metadata": {
    "collapsed": false
   },
   "outputs": [],
   "source": [
    "dfn, dfd = 29, 18\n",
    "mean, var, skew, kurt = scipy.stats.f.stats(dfn, dfd, moments='mvsk')"
   ]
  },
  {
   "cell_type": "code",
   "execution_count": 43,
   "metadata": {
    "collapsed": false
   },
   "outputs": [
    {
     "data": {
      "text/plain": [
       "0.38084718434477144"
      ]
     },
     "execution_count": 43,
     "metadata": {},
     "output_type": "execute_result"
    }
   ],
   "source": [
    "scipy.stats.f.ppf(0.01,dfn,dfd)"
   ]
  },
  {
   "cell_type": "code",
   "execution_count": 46,
   "metadata": {
    "collapsed": false,
    "scrolled": true
   },
   "outputs": [
    {
     "data": {
      "text/plain": [
       "array([ 0.38084718,  0.40659381,  0.43234043,  0.45808705,  0.48383367,\n",
       "        0.5095803 ,  0.53532692,  0.56107354,  0.58682016,  0.61256679,\n",
       "        0.63831341,  0.66406003,  0.68980665,  0.71555328,  0.7412999 ,\n",
       "        0.76704652,  0.79279314,  0.81853977,  0.84428639,  0.87003301,\n",
       "        0.89577963,  0.92152626,  0.94727288,  0.9730195 ,  0.99876612,\n",
       "        1.02451275,  1.05025937,  1.07600599,  1.10175261,  1.12749924,\n",
       "        1.15324586,  1.17899248,  1.2047391 ,  1.23048573,  1.25623235,\n",
       "        1.28197897,  1.30772559,  1.33347222,  1.35921884,  1.38496546,\n",
       "        1.41071208,  1.43645871,  1.46220533,  1.48795195,  1.51369857,\n",
       "        1.5394452 ,  1.56519182,  1.59093844,  1.61668506,  1.64243168,\n",
       "        1.66817831,  1.69392493,  1.71967155,  1.74541817,  1.7711648 ,\n",
       "        1.79691142,  1.82265804,  1.84840466,  1.87415129,  1.89989791,\n",
       "        1.92564453,  1.95139115,  1.97713778,  2.0028844 ,  2.02863102,\n",
       "        2.05437764,  2.08012427,  2.10587089,  2.13161751,  2.15736413,\n",
       "        2.18311076,  2.20885738,  2.234604  ,  2.26035062,  2.28609725,\n",
       "        2.31184387,  2.33759049,  2.36333711,  2.38908374,  2.41483036,\n",
       "        2.44057698,  2.4663236 ,  2.49207023,  2.51781685,  2.54356347,\n",
       "        2.56931009,  2.59505672,  2.62080334,  2.64654996,  2.67229658,\n",
       "        2.69804321,  2.72378983,  2.74953645,  2.77528307,  2.8010297 ,\n",
       "        2.82677632,  2.85252294,  2.87826956,  2.90401619,  2.92976281])"
      ]
     },
     "execution_count": 46,
     "metadata": {},
     "output_type": "execute_result"
    }
   ],
   "source": [
    "x = numpy.linspace(scipy.stats.f.ppf(0.01,dfn,dfd), scipy.stats.f.ppf(0.99,dfn,dfd), 100)\n",
    "x"
   ]
  },
  {
   "cell_type": "code",
   "execution_count": 71,
   "metadata": {
    "collapsed": false
   },
   "outputs": [
    {
     "data": {
      "text/plain": [
       "[<matplotlib.lines.Line2D at 0x2a41395b898>]"
      ]
     },
     "execution_count": 71,
     "metadata": {},
     "output_type": "execute_result"
    },
    {
     "data": {
      "image/png": "[encoded data removed]",
      "text/plain": [
       "<matplotlib.figure.Figure at 0x2a413895cc0>"
      ]
     },
     "metadata": {},
     "output_type": "display_data"
    }
   ],
   "source": [
    "plt.plot(x, scipy.stats.f.pdf(x, dfn, dfd), 'r-', lw=5, alpha=0.6, label= 'f pdf')"
   ]
  },
  {
   "cell_type": "code",
   "execution_count": 72,
   "metadata": {
    "collapsed": false,
    "scrolled": true
   },
   "outputs": [
    {
     "data": {
      "text/plain": [
       "[<matplotlib.lines.Line2D at 0x2a4139ba518>]"
      ]
     },
     "execution_count": 72,
     "metadata": {},
     "output_type": "execute_result"
    },
    {
     "data": {
      "image/png": "[encoded data removed]",
      "text/plain": [
       "<matplotlib.figure.Figure at 0x2a41396d860>"
      ]
     },
     "metadata": {},
     "output_type": "display_data"
    }
   ],
   "source": [
    "rv = scipy.stats.f(dfn,dfd)\n",
    "plt.plot(x, rv.pdf(x), 'k-', lw=2, label='frozen pdf')"
   ]
  },
  {
   "cell_type": "code",
   "execution_count": 75,
   "metadata": {
    "collapsed": false
   },
   "outputs": [
    {
     "data": {
      "text/plain": [
       "array([ 0.16619395,  0.22136104,  0.28342854,  0.3507999 ,  0.4216384 ,\n",
       "        0.49401724,  0.5660504 ,  0.63599579,  0.70232807,  0.7637825 ,\n",
       "        0.81937363,  0.86839396,  0.91039777,  0.9451749 ,  0.97271892,\n",
       "        0.99319276,  1.00689449,  1.01422501,  1.01565862,  1.01171734,\n",
       "        1.00294898,  0.98990913,  0.97314667,  0.95319262,  0.93055182,\n",
       "        0.90569712,  0.87906565,  0.85105672,  0.82203114,  0.79231158,\n",
       "        0.76218369,  0.73189782,  0.70167117,  0.6716901 ,  0.64211267,\n",
       "        0.61307117,  0.58467462,  0.55701123,  0.53015068,  0.50414636,\n",
       "        0.47903734,  0.45485026,  0.43160107,  0.4092965 ,  0.38793551,\n",
       "        0.3675105 ,  0.34800844,  0.32941181,  0.31169949,  0.29484748,\n",
       "        0.27882959,  0.26361794,  0.24918352,  0.23549656,  0.22252686,\n",
       "        0.21024414,  0.19861825,  0.18761937,  0.17721822,  0.16738612,\n",
       "        0.15809518,  0.14931832,  0.14102935,  0.13320304,  0.12581512,\n",
       "        0.11884227,  0.11226221,  0.10605362,  0.10019614,  0.09467041,\n",
       "        0.08945798,  0.08454131,  0.07990377,  0.07552959,  0.0714038 ,\n",
       "        0.06751224,  0.06384152,  0.06037897,  0.05711263,  0.05403119,\n",
       "        0.05112397,  0.04838092,  0.04579252,  0.04334984,  0.04104442,\n",
       "        0.03886832,  0.03681403,  0.03487452,  0.03304312,  0.03131358,\n",
       "        0.02968002,  0.02813687,  0.02667894,  0.02530129,  0.02399932,\n",
       "        0.02276867,  0.02160525,  0.0205052 ,  0.0194649 ,  0.01848094])"
      ]
     },
     "execution_count": 75,
     "metadata": {},
     "output_type": "execute_result"
    }
   ],
   "source": [
    "rv.pdf(x)"
   ]
  },
  {
   "cell_type": "code",
   "execution_count": 66,
   "metadata": {
    "collapsed": false
   },
   "outputs": [
    {
     "data": {
      "text/plain": [
       "array([ 0.27535707,  1.01440182,  4.32127784])"
      ]
     },
     "execution_count": 66,
     "metadata": {},
     "output_type": "execute_result"
    }
   ],
   "source": [
    "vals = scipy.stats.f.ppf([0.001, 0.5, 0.999], dfn, dfd)\n",
    "vals"
   ]
  },
  {
   "cell_type": "code",
   "execution_count": 67,
   "metadata": {
    "collapsed": false
   },
   "outputs": [
    {
     "data": {
      "text/plain": [
       "True"
      ]
     },
     "execution_count": 67,
     "metadata": {},
     "output_type": "execute_result"
    }
   ],
   "source": [
    "numpy.allclose([0.001, 0.5, 0.999],  scipy.stats.f.cdf(vals, dfn, dfd))"
   ]
  },
  {
   "cell_type": "code",
   "execution_count": 68,
   "metadata": {
    "collapsed": false,
    "scrolled": true
   },
   "outputs": [
    {
     "data": {
      "text/plain": [
       "array([ 0.71296141,  0.57999761,  1.51421417,  0.79458054,  1.28624141,\n",
       "        0.77640119,  0.7852057 ,  0.7423303 ,  0.56107957,  1.81117856,\n",
       "        1.41016088,  1.61475635,  1.75128639,  0.64554369,  1.76236526,\n",
       "        1.05887859,  1.10437665,  1.70611667,  1.50734485,  0.66429063,\n",
       "        1.80155126,  1.06296942,  2.47936778,  2.13572775,  1.20052235,\n",
       "        1.43244475,  0.81743287,  0.50236505,  0.94142469,  0.51218198,\n",
       "        0.7265255 ,  0.99183354,  0.69397218,  1.41346632,  1.72099495,\n",
       "        0.82992419,  2.42929895,  0.63430965,  1.62979301,  0.81678559,\n",
       "        1.89565654,  0.94916649,  0.75857791,  0.97815529,  1.23781014,\n",
       "        0.89233539,  3.4030636 ,  3.08468472,  1.15709985,  0.3733279 ,\n",
       "        0.57832841,  1.12384992,  1.02880874,  1.0009729 ,  0.71595102,\n",
       "        1.87209448,  1.72442062,  0.854927  ,  1.24247186,  0.45581093,\n",
       "        0.97300172,  0.71901908,  1.06916332,  0.82841301,  0.38856251,\n",
       "        0.52546855,  1.69199556,  1.58779503,  0.84062303,  0.67006619,\n",
       "        0.83862706,  0.48169314,  0.86177291,  1.12461589,  0.80922407,\n",
       "        1.12460381,  0.6182137 ,  0.35908961,  0.94007491,  0.97236176,\n",
       "        0.47649645,  0.6811412 ,  1.03812918,  1.38482396,  2.4502686 ,\n",
       "        0.6223882 ,  0.95466943,  0.51887351,  0.89883805,  3.45796269,\n",
       "        0.54583648,  1.58920013,  0.98981599,  0.67339675,  0.4296133 ,\n",
       "        2.59484858,  0.73035939,  0.70067   ,  1.55060277,  1.19262242,\n",
       "        1.33162776,  2.21626014,  1.75082513,  1.04485129,  0.38190057,\n",
       "        1.00368523,  0.81793244,  0.48791151,  0.68016196,  0.6718414 ,\n",
       "        0.88150771,  0.71359659,  1.27416194,  1.25919028,  1.04809344,\n",
       "        1.26982454,  0.9014687 ,  0.57494872,  1.75433257,  0.27321354,\n",
       "        0.88520812,  0.39360912,  0.91733785,  0.68788013,  0.79775767,\n",
       "        1.53394264,  0.95717182,  0.92263211,  1.32835293,  1.66429355,\n",
       "        1.33144802,  0.82796978,  0.61561385,  1.90087805,  1.21061881,\n",
       "        0.86936716,  1.03251113,  1.28802347,  1.2768528 ,  0.47677714,\n",
       "        1.11667653,  2.34006056,  2.41610402,  1.24901055,  1.35906923,\n",
       "        0.77902553,  1.05144602,  0.60424086,  0.56944529,  1.30313105,\n",
       "        1.75290314,  1.69810823,  1.12944708,  1.0045869 ,  0.98655222,\n",
       "        1.34081382,  0.97452337,  1.08253124,  1.28910796,  0.8863176 ,\n",
       "        1.14395718,  1.04385563,  1.16174228,  1.03732558,  0.69473771,\n",
       "        0.74863465,  1.13765631,  1.25802474,  1.37435406,  0.69287819,\n",
       "        0.87112804,  1.4390262 ,  1.13943076,  0.90579083,  0.74971979,\n",
       "        1.05326039,  1.21212331,  1.48121409,  0.46737566,  1.43649589,\n",
       "        0.88525671,  0.59874723,  1.84998083,  2.49524151,  0.6822684 ,\n",
       "        0.81501048,  1.01847781,  1.15605528,  0.84317996,  0.86914956,\n",
       "        0.95172026,  1.09340216,  0.7847865 ,  1.05827889,  1.25882513,\n",
       "        2.12809033,  2.27170536,  1.19765786,  1.20307817,  2.13547802,\n",
       "        0.68191271,  0.73031656,  1.61304447,  1.69152358,  0.86570226,\n",
       "        1.30543858,  1.39762209,  1.09849204,  0.78301563,  1.31529786,\n",
       "        1.35625851,  1.16237008,  1.16617677,  0.97630343,  1.55928515,\n",
       "        1.36143506,  1.14076609,  0.4549667 ,  1.06929135,  0.98450035,\n",
       "        1.30226025,  1.94672447,  0.8751192 ,  1.04295333,  1.60890305,\n",
       "        0.98900485,  1.02421528,  0.74536167,  0.92607833,  0.953236  ,\n",
       "        3.10126728,  1.39757785,  0.70743418,  1.62708037,  1.16637197,\n",
       "        0.5532804 ,  1.3927896 ,  0.66649474,  0.59118704,  0.8236116 ,\n",
       "        1.13272708,  0.63718173,  1.05193271,  0.94212666,  0.61829885,\n",
       "        0.51412889,  2.25394655,  1.84739679,  0.44355354,  0.7472282 ,\n",
       "        1.47069985,  0.60034947,  1.61990252,  0.42869255,  2.00406064,\n",
       "        1.44713785,  1.71048945,  2.47062781,  0.56564115,  1.11610873,\n",
       "        1.87854706,  1.33854112,  1.22912223,  0.94965968,  0.67912205,\n",
       "        1.37254643,  1.99343054,  0.90372299,  0.75143765,  0.9646334 ,\n",
       "        1.6915382 ,  0.55579781,  0.79765319,  1.38933731,  3.21674571,\n",
       "        2.42562628,  0.67253155,  0.70882086,  1.10873233,  0.90416602,\n",
       "        0.59885664,  0.94464679,  0.89984552,  0.40716061,  1.6337038 ,\n",
       "        0.91237156,  1.31209893,  0.5625894 ,  1.03848746,  1.1974686 ,\n",
       "        1.47821759,  0.88493001,  2.04930286,  2.06564367,  0.59019267,\n",
       "        0.97635164,  1.01899613,  0.81337712,  0.67347935,  1.25152275,\n",
       "        2.08744844,  1.23225472,  1.37318483,  1.17819577,  0.80444373,\n",
       "        0.75583056,  0.47621731,  0.72051329,  0.82938599,  0.97001304,\n",
       "        1.02677571,  0.76437202,  0.95067672,  1.2916866 ,  0.54967745,\n",
       "        1.02215807,  0.58347116,  2.50501507,  0.76636846,  0.7320649 ,\n",
       "        0.95302824,  1.13239349,  0.81177287,  1.35479818,  1.14825871,\n",
       "        0.72298275,  1.45872119,  0.87897958,  0.8789524 ,  1.10495596,\n",
       "        1.12725048,  1.02844534,  1.19118871,  0.8906025 ,  0.99244734,\n",
       "        1.00399833,  1.98403803,  1.18517101,  0.70899371,  1.04312441,\n",
       "        3.2899022 ,  1.09108017,  0.64276884,  1.55671796,  0.4842058 ,\n",
       "        0.97504946,  1.38002788,  1.61367548,  0.8810625 ,  0.6133933 ,\n",
       "        0.50631255,  1.08381055,  0.83135728,  0.42436951,  1.55579283,\n",
       "        1.56758372,  0.65356962,  1.41340917,  0.97294225,  0.8633487 ,\n",
       "        0.56418719,  0.83114791,  1.50425009,  0.80952871,  1.06577863,\n",
       "        0.46915255,  1.49551533,  1.62412426,  0.41439479,  1.85186848,\n",
       "        2.96340884,  1.38237675,  1.53926929,  1.14297521,  2.36574035,\n",
       "        0.76972462,  0.71546625,  0.97916938,  1.10461494,  0.83013507,\n",
       "        1.06301191,  1.32413684,  1.09551785,  0.62618851,  0.83339814,\n",
       "        1.48250143,  0.94922558,  1.88676102,  0.78805415,  1.40063829,\n",
       "        1.66800927,  1.06812285,  0.55822862,  1.03348036,  1.14150938,\n",
       "        1.65253378,  0.81121429,  1.14106616,  1.03928019,  0.70005913,\n",
       "        0.57427035,  1.26836184,  0.89219518,  0.89207799,  0.83832943,\n",
       "        0.96781941,  0.76133462,  0.82964137,  1.93231456,  0.61323256,\n",
       "        2.29078959,  0.70647163,  1.50821992,  1.6608819 ,  0.55756098,\n",
       "        0.68316419,  1.29781675,  1.02798284,  0.94780399,  1.69507789,\n",
       "        1.34253134,  1.32054045,  2.2482699 ,  1.12093747,  0.90915932,\n",
       "        0.81351395,  1.68308888,  1.0894973 ,  1.79956788,  1.23271504,\n",
       "        1.65245297,  0.83467679,  0.97334005,  1.40370048,  0.71245809,\n",
       "        1.33892583,  0.63871042,  3.28592655,  0.54155135,  2.18922631,\n",
       "        0.89779139,  0.5135233 ,  1.88470006,  0.76954589,  1.33508019,\n",
       "        0.9362714 ,  1.86786446,  1.48435524,  2.29662173,  1.3169231 ,\n",
       "        1.0444104 ,  1.6887233 ,  0.75474212,  0.8291314 ,  0.92918967,\n",
       "        0.99368918,  2.94195532,  1.32974199,  1.52359092,  0.99104524,\n",
       "        0.92724067,  2.73493796,  0.85675656,  0.9077434 ,  1.35116924,\n",
       "        1.2544619 ,  0.98942552,  0.60255515,  0.64313856,  0.90321533,\n",
       "        1.01710413,  0.88973653,  1.2307822 ,  0.81602452,  0.99825359,\n",
       "        0.99472245,  0.67032864,  0.68981264,  1.57676139,  1.29831119,\n",
       "        1.44552488,  0.86379483,  0.9360398 ,  1.14666134,  0.63301348,\n",
       "        1.03029366,  1.31514671,  1.51577286,  0.43681977,  0.41520233,\n",
       "        0.67614045,  3.22837714,  1.23849019,  1.96875846,  1.6812366 ,\n",
       "        1.44264453,  0.83765124,  1.17013927,  1.37065178,  0.55411042,\n",
       "        0.7403064 ,  1.16249064,  2.82738179,  0.84593974,  1.19251704,\n",
       "        0.8307257 ,  0.74559959,  0.71626904,  0.60650523,  0.94263837,\n",
       "        1.13879224,  0.8862907 ,  0.54714582,  1.91655453,  0.37137787,\n",
       "        1.27830535,  1.44168164,  1.82376909,  0.52984915,  0.92594834,\n",
       "        0.77110763,  0.76804472,  1.26792453,  1.16870789,  0.83007839,\n",
       "        1.65500573,  0.84619869,  0.87900444,  0.72162042,  1.89840303,\n",
       "        0.76262669,  0.95870588,  1.49269386,  1.26898119,  2.23924491,\n",
       "        1.50337795,  4.36186153,  1.50085646,  0.74479675,  0.83855908,\n",
       "        0.87539143,  0.62762506,  0.7184697 ,  1.47762425,  1.23739252,\n",
       "        0.92452601,  0.64228183,  1.70595719,  0.64852178,  1.1586274 ,\n",
       "        1.97877133,  1.14161919,  1.01374981,  0.69638764,  0.59030012,\n",
       "        0.87836141,  1.75054979,  1.67109157,  1.39772589,  2.00580592,\n",
       "        1.97525935,  1.07475127,  1.3991823 ,  0.76399961,  0.84248752,\n",
       "        1.34387962,  0.98527931,  0.5529912 ,  1.35274341,  0.80245286,\n",
       "        0.61242631,  1.0452703 ,  0.73630239,  0.73228016,  0.66737873,\n",
       "        0.37274959,  0.60110001,  0.81810916,  0.69322215,  0.89799723,\n",
       "        0.53746372,  1.03822732,  0.85274367,  1.49463834,  1.54605726,\n",
       "        0.75724132,  0.87262733,  1.04989729,  1.14782965,  0.48073171,\n",
       "        1.10399408,  0.71604964,  0.99551896,  0.88063135,  0.72227201,\n",
       "        1.56172048,  1.33712388,  1.4401256 ,  1.27093882,  1.01077704,\n",
       "        0.61107401,  2.17196857,  0.4574376 ,  0.84038584,  2.62687096,\n",
       "        0.86752432,  1.06285529,  1.41239206,  1.48329251,  1.0591064 ,\n",
       "        1.33989471,  1.10343619,  1.16579329,  1.00842931,  1.11352929,\n",
       "        1.3264894 ,  0.79028605,  0.80277502,  0.79537916,  0.99085951,\n",
       "        0.61248087,  0.99307336,  0.99522487,  1.4521993 ,  1.65877068,\n",
       "        0.73526767,  1.0184118 ,  0.27835343,  2.11426443,  1.17848899,\n",
       "        0.64649365,  1.12366973,  0.64017938,  0.73064076,  0.75121999,\n",
       "        0.5472691 ,  0.78233681,  0.94625647,  1.41790819,  0.50161921,\n",
       "        0.61033327,  0.77822902,  1.28932725,  1.38319874,  0.77646903,\n",
       "        1.2326237 ,  0.93214006,  1.07941901,  0.99784219,  0.58127953,\n",
       "        0.9963006 ,  0.37683687,  2.8150782 ,  0.62042971,  0.81980029,\n",
       "        1.37405528,  1.67956265,  0.8749544 ,  0.57317716,  0.84625276,\n",
       "        0.71883895,  0.66628816,  1.37114132,  0.70701163,  2.51417614,\n",
       "        1.16275534,  1.01619859,  0.91030366,  1.57589304,  1.13015901,\n",
       "        1.32339522,  2.27865375,  1.46083797,  1.56561102,  1.03223596,\n",
       "        1.08970414,  1.79283728,  0.82581145,  0.92467132,  0.56654883,\n",
       "        0.91915893,  0.84842677,  0.948988  ,  0.98109268,  1.53596002,\n",
       "        0.85615408,  1.36665571,  1.70614565,  1.2212839 ,  0.42787043,\n",
       "        0.58684006,  1.46183351,  1.21537722,  0.6806997 ,  0.83475826,\n",
       "        1.11107224,  0.76752586,  1.07442033,  0.8844898 ,  1.77060383,\n",
       "        0.53562007,  1.04700648,  1.4305111 ,  1.17957802,  0.85774238,\n",
       "        1.4109786 ,  0.53188257,  2.02762898,  0.88858005,  2.53282243,\n",
       "        0.67394615,  1.85031786,  1.65146418,  1.56734244,  1.18327866,\n",
       "        0.65698993,  1.29802345,  1.06500229,  1.10474811,  1.60094138,\n",
       "        2.4127087 ,  0.84552349,  1.67861637,  0.80805311,  0.62430497,\n",
       "        1.05132784,  1.66320584,  0.64589658,  0.78855374,  0.92124634,\n",
       "        1.08879105,  1.89190396,  0.35123009,  2.71767121,  1.30527076,\n",
       "        1.01457124,  1.84266731,  1.56371037,  1.26744214,  1.39457137,\n",
       "        1.48516032,  2.50057989,  0.90510464,  0.66311486,  0.87391961,\n",
       "        0.76951494,  1.28434894,  0.74857028,  1.20308189,  0.54705375,\n",
       "        0.84534545,  0.75333598,  0.87875088,  0.56896101,  0.99999635,\n",
       "        1.51313021,  0.93779978,  2.50033405,  1.31805972,  0.63090187,\n",
       "        3.56064233,  0.77422071,  0.90261642,  0.86608414,  0.92317743,\n",
       "        2.21687926,  1.25426468,  1.30213304,  1.18246537,  2.50124361,\n",
       "        0.66464918,  0.77177777,  0.9052234 ,  0.80537371,  0.85432352,\n",
       "        1.57553392,  1.05797047,  0.94995181,  0.73954804,  1.20873522,\n",
       "        1.51568921,  0.90420379,  1.21405237,  0.98785842,  1.35256088,\n",
       "        1.17033474,  0.67579934,  1.10038756,  0.76065614,  1.71992138,\n",
       "        1.74976362,  0.82605281,  0.6528185 ,  1.16995558,  1.21789956,\n",
       "        1.6240231 ,  0.33485894,  0.65667415,  0.3564547 ,  0.89440608,\n",
       "        1.47657377,  1.03135426,  0.87880246,  1.74204634,  0.76688405,\n",
       "        1.85507432,  0.88717664,  1.40913503,  1.01831518,  0.51386198,\n",
       "        0.60492218,  1.31929401,  1.77019473,  0.50395883,  0.61846815,\n",
       "        1.07586367,  0.86814321,  0.76250634,  1.4209674 ,  1.08321532,\n",
       "        1.3441926 ,  0.62776707,  1.0464062 ,  0.9675298 ,  0.50753875,\n",
       "        0.77637208,  0.54700136,  0.59707074,  1.50449038,  0.51851716,\n",
       "        1.2994927 ,  1.93651952,  1.63352405,  0.81380519,  1.00676775,\n",
       "        1.00881492,  0.87969747,  1.36099551,  0.66735502,  0.78545517,\n",
       "        1.38722443,  1.47821356,  0.6590765 ,  0.94200621,  2.81140392,\n",
       "        1.38789006,  1.1814819 ,  1.09586873,  1.39033759,  0.89933812,\n",
       "        0.86263105,  3.08845263,  1.13537507,  0.72118226,  0.75398007,\n",
       "        0.83925333,  0.77289128,  1.04490201,  2.92166558,  1.34881098,\n",
       "        0.6402469 ,  1.23193683,  0.49213543,  0.79541122,  0.96076055,\n",
       "        1.06691306,  1.92412528,  1.9755488 ,  1.14904129,  1.87661934,\n",
       "        0.39539072,  1.48416015,  0.83388739,  0.76599637,  0.62657158,\n",
       "        0.78242322,  1.01198247,  1.13203362,  0.69169279,  2.25044532,\n",
       "        1.3405572 ,  0.82711746,  2.26568897,  0.99904462,  0.76601479,\n",
       "        1.02733885,  0.43056249,  1.35358648,  0.90017859,  0.67733816,\n",
       "        1.2024159 ,  0.81550762,  0.46701288,  0.65421093,  0.72711578,\n",
       "        0.72699661,  1.38462178,  0.6715959 ,  0.8611488 ,  1.36071657,\n",
       "        0.92471616,  1.26896496,  1.31443475,  0.64334708,  1.14034257,\n",
       "        0.72675834,  0.3713064 ,  1.06832348,  1.86728469,  1.17604713,\n",
       "        1.46542989,  0.55148001,  1.41292315,  0.80551444,  1.27184098,\n",
       "        0.79576911,  0.6584741 ,  0.65731985,  2.11493702,  1.76969539,\n",
       "        0.89245892,  0.68433047,  1.37048552,  1.08245716,  1.85151107,\n",
       "        0.84532763,  0.66431669,  0.73957648,  0.59844956,  0.55708306,\n",
       "        0.7932212 ,  0.90113053,  1.42502198,  1.17441905,  1.30040801,\n",
       "        1.18153714,  1.42616152,  0.87855364,  0.60852973,  1.5983676 ,\n",
       "        0.83083313,  0.88391145,  0.7820107 ,  0.9765274 ,  0.76345502,\n",
       "        1.68037937,  0.4057867 ,  1.04890109,  0.37423881,  0.79663016,\n",
       "        1.06448548,  1.02686868,  0.25230493,  0.79060391,  0.5807774 ,\n",
       "        0.61594836,  0.66442694,  1.05163011,  0.9173765 ,  1.24363495,\n",
       "        1.2025966 ,  1.58632479,  0.90140349,  2.10201453,  0.72643823,\n",
       "        0.76758929,  1.34181824,  1.17918317,  0.40401931,  0.96321254,\n",
       "        1.27080469,  0.87645643,  1.22146834,  1.73324422,  1.03599514,\n",
       "        1.13243366,  1.12519563,  1.41852293,  0.79311479,  0.65681045,\n",
       "        0.65257304,  0.99685867,  1.25971952,  1.17407661,  0.88540278,\n",
       "        0.94149127,  0.77367998,  0.93746759,  1.02919111,  0.77203608,\n",
       "        1.18776091,  0.78067558,  0.98860391,  1.04512058,  0.3524385 ,\n",
       "        0.49874552,  0.51230384,  1.26768325,  0.80736675,  2.9424887 ])"
      ]
     },
     "execution_count": 68,
     "metadata": {},
     "output_type": "execute_result"
    }
   ],
   "source": [
    "r = scipy.stats.f.rvs(dfn, dfd, size=1000)\n",
    "r"
   ]
  },
  {
   "cell_type": "code",
   "execution_count": 76,
   "metadata": {
    "collapsed": false
   },
   "outputs": [
    {
     "data": {
      "image/png": "[encoded data removed]",
      "text/plain": [
       "<matplotlib.figure.Figure at 0x2a4139e4ac8>"
      ]
     },
     "metadata": {},
     "output_type": "display_data"
    }
   ],
   "source": [
    "plt.plot(x, scipy.stats.f.pdf(x, dfn, dfd), 'r-', lw=5, alpha=0.6, label= 'f pdf')\n",
    "plt.plot(x, rv.pdf(x), 'k-', lw=2, label='frozen pdf')\n",
    "plt.hist(r, normed=True, histtype='stepfilled', alpha=0.2)\n",
    "plt.legend(loc='best', frameon=False)\n",
    "plt.show()"
   ]
  },
  {
   "cell_type": "code",
   "execution_count": 78,
   "metadata": {
    "collapsed": false
   },
   "outputs": [],
   "source": [
    "GM = data_smile['leniency'].mean()"
   ]
  },
  {
   "cell_type": "code",
   "execution_count": 80,
   "metadata": {
    "collapsed": false
   },
   "outputs": [],
   "source": [
    "SSQ_total = numpy.sum(numpy.power((data_smile['leniency']-GM), 2))"
   ]
  },
  {
   "cell_type": "code",
   "execution_count": 85,
   "metadata": {
    "collapsed": false
   },
   "outputs": [],
   "source": [
    "SSQ_condition = 34*nbumpy.sum(numpy.power((data_smile_summary['Mean']-GM), 2))"
   ]
  },
  {
   "cell_type": "code",
   "execution_count": 86,
   "metadata": {
    "collapsed": false
   },
   "outputs": [
    {
     "data": {
      "text/plain": [
       "5.367647058823529"
      ]
     },
     "execution_count": 86,
     "metadata": {},
     "output_type": "execute_result"
    }
   ],
   "source": [
    "data_smile_summary['Mean'][0]"
   ]
  },
  {
   "cell_type": "code",
   "execution_count": 96,
   "metadata": {
    "collapsed": false
   },
   "outputs": [],
   "source": [
    "SSQ_error = numpy.sum(numpy.power((data_smile[data_smile['smile']==1]['leniency']-data_smile_summary['Mean'][0]), 2))\\\n",
    "+ numpy.sum(numpy.power((data_smile[data_smile['smile']==2]['leniency']-data_smile_summary['Mean'][1]), 2))\\\n",
    "+ numpy.sum(numpy.power((data_smile[data_smile['smile']==3]['leniency']-data_smile_summary['Mean'][2]), 2))\\\n",
    "+ numpy.sum(numpy.power((data_smile[data_smile['smile']==4]['leniency']-data_smile_summary['Mean'][3]), 2))"
   ]
  },
  {
   "cell_type": "code",
   "execution_count": 90,
   "metadata": {
    "collapsed": false
   },
   "outputs": [
    {
     "data": {
      "text/plain": [
       "377.18933823529403"
      ]
     },
     "execution_count": 90,
     "metadata": {},
     "output_type": "execute_result"
    }
   ],
   "source": [
    "SSQ_total"
   ]
  },
  {
   "cell_type": "code",
   "execution_count": 91,
   "metadata": {
    "collapsed": false
   },
   "outputs": [
    {
     "data": {
      "text/plain": [
       "27.534926470588243"
      ]
     },
     "execution_count": 91,
     "metadata": {},
     "output_type": "execute_result"
    }
   ],
   "source": [
    "SSQ_condition"
   ]
  },
  {
   "cell_type": "code",
   "execution_count": 93,
   "metadata": {
    "collapsed": false
   },
   "outputs": [
    {
     "data": {
      "text/plain": [
       "110.15441176470588"
      ]
     },
     "execution_count": 93,
     "metadata": {},
     "output_type": "execute_result"
    }
   ],
   "source": [
    "numpy.sum(numpy.power((data_smile[data_smile['smile']==1]['leniency']-data_smile_summary['Mean'][0]), 2))"
   ]
  },
  {
   "cell_type": "code",
   "execution_count": 97,
   "metadata": {
    "collapsed": false
   },
   "outputs": [
    {
     "data": {
      "text/plain": [
       "349.6544117647059"
      ]
     },
     "execution_count": 97,
     "metadata": {},
     "output_type": "execute_result"
    }
   ],
   "source": [
    "SSQ_error"
   ]
  },
  {
   "cell_type": "markdown",
   "metadata": {},
   "source": [
    "MSB = SSQcondition/dfn"
   ]
  },
  {
   "cell_type": "code",
   "execution_count": 98,
   "metadata": {
    "collapsed": false,
    "scrolled": true
   },
   "outputs": [
    {
     "data": {
      "text/plain": [
       "9.178308823529415"
      ]
     },
     "execution_count": 98,
     "metadata": {},
     "output_type": "execute_result"
    }
   ],
   "source": [
    "SSQ_condition/3"
   ]
  },
  {
   "cell_type": "markdown",
   "metadata": {},
   "source": [
    "MSE = SSQerror/dfd"
   ]
  },
  {
   "cell_type": "code",
   "execution_count": 99,
   "metadata": {
    "collapsed": false
   },
   "outputs": [
    {
     "data": {
      "text/plain": [
       "2.8574949866310155"
      ]
     },
     "execution_count": 99,
     "metadata": {},
     "output_type": "execute_result"
    }
   ],
   "source": [
    "SSQ_total/132"
   ]
  },
  {
   "cell_type": "code",
   "execution_count": 100,
   "metadata": {
    "collapsed": true
   },
   "outputs": [],
   "source": [
    "test = pandas.DataFrame({'G1':[38,47,62,47,73,46,50,66], 'G2':[54,46,65,27,38,58,34,34], 'G3': [27,53,50,43,48,45,42,42]})"
   ]
  },
  {
   "cell_type": "code",
   "execution_count": 102,
   "metadata": {
    "collapsed": false
   },
   "outputs": [],
   "source": [
    "mse = (scipy.stats.tvar(test['G1']) + scipy.stats.tvar(test['G2']) +scipy.stats.tvar(test['G3']))/3\n",
    "msb = 8*(scipy.stats.tvar([scipy.stats.tmean(test['G1']), scipy.stats.tmean(test['G2']), scipy.stats.tmean(test['G3'])]))"
   ]
  },
  {
   "cell_type": "code",
   "execution_count": 103,
   "metadata": {
    "collapsed": false
   },
   "outputs": [
    {
     "data": {
      "text/plain": [
       "0.17702114679707415"
      ]
     },
     "execution_count": 103,
     "metadata": {},
     "output_type": "execute_result"
    }
   ],
   "source": [
    "F = msb/mse\n",
    "p = 1-scipy.stats.f.cdf(F, 2, 3*8-3)\n",
    "p"
   ]
  },
  {
   "cell_type": "code",
   "execution_count": 116,
   "metadata": {
    "collapsed": false
   },
   "outputs": [],
   "source": [
    "test = pandas.DataFrame({'G1':[51,71,71,74,59,55,69,46], 'G2':[62,22,55,35,46,44,45,32], 'G3': [57,45,45,63,50,34,47,49]})\n",
    "\n",
    "def anova (df):\n",
    "    n = len(df)\n",
    "    k = df.shape[1]\n",
    "    N = n*8\n",
    "    dfn = k-1\n",
    "    dfd = N-k\n",
    "    mse = 0\n",
    "    msb = 0\n",
    "    means = []\n",
    "    for col in df.columns:\n",
    "        mse = mse + scipy.stats.tvar(df[col])\n",
    "        means.append(scipy.stats.tmean(df[col]))\n",
    "    mse = mse/k\n",
    "    msb = n*scipy.stats.tvar(means)\n",
    "    F = msb/mse\n",
    "    p = 1-scipy.stats.f.cdf(F, dfn, dfd)\n",
    "    return(mse, msb, F, p)"
   ]
  },
  {
   "cell_type": "code",
   "execution_count": 113,
   "metadata": {
    "collapsed": false
   },
   "outputs": [
    {
     "data": {
      "text/plain": [
       "Index(['G1', 'G2', 'G3'], dtype='object')"
      ]
     },
     "execution_count": 113,
     "metadata": {},
     "output_type": "execute_result"
    }
   ],
   "source": [
    "test.columns"
   ]
  },
  {
   "cell_type": "code",
   "execution_count": 117,
   "metadata": {
    "collapsed": false
   },
   "outputs": [],
   "source": [
    "mse, msb, F, p = anova(test)"
   ]
  },
  {
   "cell_type": "code",
   "execution_count": 118,
   "metadata": {
    "collapsed": false
   },
   "outputs": [
    {
     "data": {
      "text/plain": [
       "6.7106348317466784"
      ]
     },
     "execution_count": 118,
     "metadata": {},
     "output_type": "execute_result"
    }
   ],
   "source": [
    "F"
   ]
  },
  {
   "cell_type": "code",
   "execution_count": 119,
   "metadata": {
    "collapsed": false
   },
   "outputs": [
    {
     "data": {
      "text/plain": [
       "9.7169999999999987"
      ]
     },
     "execution_count": 119,
     "metadata": {},
     "output_type": "execute_result"
    }
   ],
   "source": [
    "scipy.stats.tvar([4.5,7.2,3.4,9.1,1.2])"
   ]
  },
  {
   "cell_type": "code",
   "execution_count": 120,
   "metadata": {
    "collapsed": false
   },
   "outputs": [
    {
     "data": {
      "text/plain": [
       "0.93599999999999994"
      ]
     },
     "execution_count": 120,
     "metadata": {},
     "output_type": "execute_result"
    }
   ],
   "source": [
    "scipy.stats.tmean([1.33,0.98,1.03,0.78,0.56])"
   ]
  },
  {
   "cell_type": "code",
   "execution_count": 125,
   "metadata": {
    "collapsed": false
   },
   "outputs": [
    {
     "data": {
      "text/plain": [
       "0.00019481738330668597"
      ]
     },
     "execution_count": 125,
     "metadata": {},
     "output_type": "execute_result"
    }
   ],
   "source": [
    "scipy.stats.t.cdf(-2.5, 12)**2"
   ]
  }
 ],
 "metadata": {
  "kernelspec": {
   "display_name": "Python [Root]",
   "language": "python",
   "name": "Python [Root]"
  },
  "language_info": {
   "codemirror_mode": {
    "name": "ipython",
    "version": 3
   },
   "file_extension": ".py",
   "mimetype": "text/x-python",
   "name": "python",
   "nbconvert_exporter": "python",
   "pygments_lexer": "ipython3",
   "version": "3.5.2"
  }
 },
 "nbformat": 4,
 "nbformat_minor": 2
}
